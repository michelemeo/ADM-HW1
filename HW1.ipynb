{
 "cells": [
  {
   "cell_type": "markdown",
   "metadata": {},
   "source": [
    "# PROBLEM 1"
   ]
  },
  {
   "cell_type": "markdown",
   "metadata": {},
   "source": [
    "# Introduction"
   ]
  },
  {
   "cell_type": "markdown",
   "metadata": {},
   "source": [
    "## Say \"Hello, World!\" With Python"
   ]
  },
  {
   "cell_type": "code",
   "execution_count": null,
   "metadata": {},
   "outputs": [],
   "source": [
    "print(\"Hello, World!\")"
   ]
  },
  {
   "cell_type": "markdown",
   "metadata": {},
   "source": [
    "## Python If-Else"
   ]
  },
  {
   "cell_type": "code",
   "execution_count": null,
   "metadata": {},
   "outputs": [],
   "source": [
    "n = int(input())\n",
    "\n",
    "if n%2 != 0 or (n%2 == 0 and 6 <= n <= 20):\n",
    "    print(\"Weird\")\n",
    "elif (n%2 == 0 and 2 <= n <= 5) or (n%2 == 0 and n > 20):\n",
    "    print(\"Not Weird\")"
   ]
  },
  {
   "cell_type": "markdown",
   "metadata": {},
   "source": [
    "## Arithmetic Operators"
   ]
  },
  {
   "cell_type": "code",
   "execution_count": null,
   "metadata": {},
   "outputs": [],
   "source": [
    "a = int(input())\n",
    "b = int(input())\n",
    "\n",
    "print(a+b)\n",
    "print(a-b)\n",
    "print(a*b)"
   ]
  },
  {
   "cell_type": "markdown",
   "metadata": {},
   "source": [
    "## Python: Division"
   ]
  },
  {
   "cell_type": "code",
   "execution_count": null,
   "metadata": {},
   "outputs": [],
   "source": [
    "a = int(input())\n",
    "b = int(input())\n",
    "\n",
    "print(a//b)\n",
    "print(a/b)"
   ]
  },
  {
   "cell_type": "markdown",
   "metadata": {},
   "source": [
    "## Loops"
   ]
  },
  {
   "cell_type": "code",
   "execution_count": null,
   "metadata": {},
   "outputs": [],
   "source": [
    "n = int(input())\n",
    "\n",
    "for i in range(n):\n",
    "    print(i*i)"
   ]
  },
  {
   "cell_type": "markdown",
   "metadata": {},
   "source": [
    "## Write a function"
   ]
  },
  {
   "cell_type": "code",
   "execution_count": null,
   "metadata": {},
   "outputs": [],
   "source": [
    "def is_leap(year):\n",
    "    leap = False\n",
    "    \n",
    "    if year%400 == 0: \n",
    "        leap = True\n",
    "    elif year%4 == 0 and year%100 != 0:\n",
    "        leap = True\n",
    "    \n",
    "    return leap\n",
    "\n",
    "year = int(input())\n",
    "print(is_leap(year))"
   ]
  },
  {
   "cell_type": "markdown",
   "metadata": {},
   "source": [
    "## Print Function"
   ]
  },
  {
   "cell_type": "code",
   "execution_count": null,
   "metadata": {},
   "outputs": [],
   "source": [
    "n = int(input())\n",
    "\n",
    "for i in range(1, n+1):\n",
    "    print(i, end=\"\")"
   ]
  },
  {
   "cell_type": "markdown",
   "metadata": {},
   "source": [
    "# Basic Data Types"
   ]
  },
  {
   "cell_type": "markdown",
   "metadata": {},
   "source": [
    "## List Comprehensions"
   ]
  },
  {
   "cell_type": "code",
   "execution_count": null,
   "metadata": {},
   "outputs": [],
   "source": [
    "x = int(input())\n",
    "y = int(input())\n",
    "z = int(input())\n",
    "n = int(input())\n",
    "\n",
    "lexico = [ [i, j, k] for i in range(x+1) for j in range(y+1) for k in range(z+1) if i+j+k != n ]\n",
    "\n",
    "print(lexico)"
   ]
  },
  {
   "cell_type": "markdown",
   "metadata": {},
   "source": [
    "## Find the Runner-Up Score!"
   ]
  },
  {
   "cell_type": "code",
   "execution_count": null,
   "metadata": {},
   "outputs": [],
   "source": [
    "n = int(input())\n",
    "arr = list(map(int, input().split()))\n",
    "R_Up = -100\n",
    "\n",
    "for i in range(n):\n",
    "    if arr[i] > R_Up and arr[i] < max(arr):\n",
    "        R_Up = arr[i]\n",
    "        \n",
    "print(R_Up)"
   ]
  },
  {
   "cell_type": "markdown",
   "metadata": {},
   "source": [
    "## Nested list"
   ]
  },
  {
   "cell_type": "code",
   "execution_count": null,
   "metadata": {},
   "outputs": [],
   "source": [
    "physics_class = []\n",
    "physics_grades = []\n",
    "second = []\n",
    "N = int(input())\n",
    "\n",
    "for i in range(N):\n",
    "    physics_class.append(input())  \n",
    "    physics_grades.append(float(input()))\n",
    "    \n",
    "second_lowest = max(physics_grades)\n",
    "\n",
    "for i in range(N):\n",
    "    if physics_grades[i] < second_lowest and physics_grades[i] > min(physics_grades):\n",
    "        second_lowest = physics_grades[i]\n",
    "        \n",
    "for i in range(N):\n",
    "    if physics_grades[i] == second_lowest:\n",
    "        second.append(physics_class[i])\n",
    "        \n",
    "second.sort()\n",
    "\n",
    "for i in second:\n",
    "    print(i)"
   ]
  },
  {
   "cell_type": "markdown",
   "metadata": {},
   "source": [
    "## Finding the percentage"
   ]
  },
  {
   "cell_type": "code",
   "execution_count": null,
   "metadata": {},
   "outputs": [],
   "source": [
    "n = int(input())\n",
    "students = {}\n",
    "\n",
    "for i in range(n):\n",
    "    name, math, phys, chem = input().split()\n",
    "    marks = list(map(float, [math, phys, chem]))\n",
    "    students[name] = marks\n",
    "    \n",
    "student_name = input()\n",
    "s = 0\n",
    "for i in range(len(students[student_name])):\n",
    "    s += students[student_name][i]\n",
    "    \n",
    "print(\"{:.2f}\".format(s/3))"
   ]
  },
  {
   "cell_type": "markdown",
   "metadata": {},
   "source": [
    "## Lists"
   ]
  },
  {
   "cell_type": "code",
   "execution_count": null,
   "metadata": {},
   "outputs": [],
   "source": [
    "N = int(input())\n",
    "l = []\n",
    "\n",
    "for i in range(N):\n",
    "    \n",
    "    commands = input().split()\n",
    "    \n",
    "    if len(commands) == 3 and commands[0] == \"insert\":\n",
    "        commands[1] = int(commands[1])\n",
    "        commands[2] = int(commands[2])\n",
    "        l.insert(commands[1], commands[2])\n",
    "    if len(commands) == 2:\n",
    "        commands[1] = int(commands[1])\n",
    "        if commands[0] == \"remove\":\n",
    "            l.remove(commands[1])\n",
    "        if commands[0] == \"append\":\n",
    "            l.append(commands[1])\n",
    "    if len(commands) == 1:\n",
    "        if commands[0] == \"print\":\n",
    "            print(l)\n",
    "        if commands[0] == \"sort\":\n",
    "            l.sort()\n",
    "        if commands[0] == \"pop\":\n",
    "            l.pop()\n",
    "        if commands[0] == \"reverse\":\n",
    "            l.reverse()"
   ]
  },
  {
   "cell_type": "markdown",
   "metadata": {},
   "source": [
    "## Tuples"
   ]
  },
  {
   "cell_type": "code",
   "execution_count": null,
   "metadata": {},
   "outputs": [],
   "source": [
    "n = int(input())\n",
    "t = tuple(map(int, input().split() ))\n",
    "\n",
    "print(hash(t))"
   ]
  },
  {
   "cell_type": "markdown",
   "metadata": {},
   "source": [
    "# Strings"
   ]
  },
  {
   "cell_type": "markdown",
   "metadata": {},
   "source": [
    "## sWAP cASE"
   ]
  },
  {
   "cell_type": "code",
   "execution_count": null,
   "metadata": {},
   "outputs": [],
   "source": [
    "def swap_case(st):\n",
    "    return st.swapcase()\n",
    "\n",
    "s = input()\n",
    "print(swap_case(s))"
   ]
  },
  {
   "cell_type": "markdown",
   "metadata": {},
   "source": [
    "## String Split and Join\n"
   ]
  },
  {
   "cell_type": "code",
   "execution_count": null,
   "metadata": {},
   "outputs": [],
   "source": [
    "def split_and_join(line):\n",
    "    line_list = line.split()\n",
    "    return \"-\".join(line_list)\n",
    "\n",
    "line = input()\n",
    "result = split_and_join(line)\n",
    "print(result)"
   ]
  },
  {
   "cell_type": "markdown",
   "metadata": {},
   "source": [
    "## What's Your Name?"
   ]
  },
  {
   "cell_type": "code",
   "execution_count": null,
   "metadata": {},
   "outputs": [],
   "source": [
    "def print_full_name(a, b):\n",
    "    return print(\"Hello\", a + \" \" + b +\"!\", \"You just delved into python.\")\n",
    "\n",
    "\n",
    "name = input()\n",
    "surname = input()\n",
    "print_full_name(name, surname)"
   ]
  },
  {
   "cell_type": "markdown",
   "metadata": {},
   "source": [
    "## Mutations"
   ]
  },
  {
   "cell_type": "code",
   "execution_count": null,
   "metadata": {},
   "outputs": [],
   "source": [
    "def mutate_string(string, position, character):\n",
    "    l = list(string)\n",
    "    l[position] = character\n",
    "    return \"\".join(l)\n",
    "      \n",
    "s = input()\n",
    "i, c = input().split()\n",
    "s_new = mutate_string(s, int(i), c)\n",
    "print(s_new)"
   ]
  },
  {
   "cell_type": "markdown",
   "metadata": {},
   "source": [
    "## Find a string"
   ]
  },
  {
   "cell_type": "code",
   "execution_count": null,
   "metadata": {},
   "outputs": [],
   "source": [
    "def count_substring(string, sub_string):\n",
    "    k = 0\n",
    "    for i in range(len(string)):\n",
    "            if string[i:i+len(sub_string)] == sub_string:\n",
    "                k += 1\n",
    "    return k\n",
    "            \n",
    "    \n",
    "string = input()\n",
    "sub_string = input()\n",
    "    \n",
    "count = count_substring(string, sub_string)\n",
    "print(count)"
   ]
  },
  {
   "cell_type": "markdown",
   "metadata": {},
   "source": [
    "## String Validators"
   ]
  },
  {
   "cell_type": "code",
   "execution_count": null,
   "metadata": {},
   "outputs": [],
   "source": [
    "s = input()\n",
    "counter = [0 for i in range(5)]\n",
    "\n",
    "\n",
    "for c in s:\n",
    "    if c.isalnum() == True: counter[0] += 1\n",
    "    if c.isalpha() == True: counter[1] += 1\n",
    "    if c.isdigit() == True: counter[2] += 1\n",
    "    if c.islower() == True: counter[3] += 1\n",
    "    if c.isupper() == True: counter[4] += 1\n",
    "\n",
    "for i in counter:\n",
    "    if i >= 1: print(True)\n",
    "    else: print(False)"
   ]
  },
  {
   "cell_type": "markdown",
   "metadata": {},
   "source": [
    "## Text Alignment"
   ]
  },
  {
   "cell_type": "code",
   "execution_count": null,
   "metadata": {},
   "outputs": [],
   "source": [
    "thickness = int(input()) \n",
    "c = 'H'\n",
    "\n",
    "#Top Cone\n",
    "for i in range(thickness):\n",
    "    print((c*i).rjust(thickness-1)+c+(c*i).ljust(thickness-1))\n",
    "\n",
    "#Top Pillars\n",
    "for i in range(thickness+1):\n",
    "    print((c*thickness).center(thickness*2)+(c*thickness).center(thickness*6))\n",
    "\n",
    "#Middle Belt\n",
    "for i in range((thickness+1)//2):\n",
    "    print((c*thickness*5).center(thickness*6))    \n",
    "\n",
    "#Bottom Pillars\n",
    "for i in range(thickness+1):\n",
    "    print((c*thickness).center(thickness*2)+(c*thickness).center(thickness*6))    \n",
    "\n",
    "#Bottom Cone\n",
    "for i in range(thickness):\n",
    "    print(((c*(thickness-i-1)).rjust(thickness)+c+(c*(thickness-i-1)).ljust(thickness)).rjust(thickness*6))\n",
    "\n"
   ]
  },
  {
   "cell_type": "markdown",
   "metadata": {},
   "source": [
    "## Text Wrap"
   ]
  },
  {
   "cell_type": "code",
   "execution_count": null,
   "metadata": {},
   "outputs": [],
   "source": [
    "import textwrap \n",
    "\n",
    "def wrap(string, max_width):\n",
    "    return textwrap.fill(string, width=max_width)\n",
    "\n",
    "\n",
    "string, max_width = input(), int(input())\n",
    "result = wrap(string, max_width)\n",
    "print(result)"
   ]
  },
  {
   "cell_type": "markdown",
   "metadata": {},
   "source": [
    "## Designer Door Mat"
   ]
  },
  {
   "cell_type": "code",
   "execution_count": null,
   "metadata": {},
   "outputs": [],
   "source": [
    "N, M = map(int, input().split())\n",
    "\n",
    "for i in range(N//2):\n",
    "    print((\".|.\"*(2*i+1)).center(M, \"-\"))\n",
    "    \n",
    "print(\"WELCOME\".center(M, \"-\"))\n",
    "\n",
    "for i in range(N//2+2,N+1):\n",
    "    print((\".|.\"*(2*(N-i)+1)).center(M, \"-\"))"
   ]
  },
  {
   "cell_type": "markdown",
   "metadata": {},
   "source": [
    "## Alphabet Rangoli"
   ]
  },
  {
   "cell_type": "code",
   "execution_count": null,
   "metadata": {},
   "outputs": [],
   "source": [
    "# this is not a right solution\n",
    "import string\n",
    "\n",
    "def print_rangoli(size):\n",
    "    \n",
    "    for i in range(N//2+1):\n",
    "        print(((\"-\"+string.ascii_lowercase[i]+\"-\")*(2*i+1)).center(N, \"-\"))\n",
    "\n",
    "    for i in range(N//2+2,N+1):\n",
    "        print(((\"-\"+string.ascii_lowercase[N-i]+\"-\")*(2*(N-i)+1)).center(N, \"-\"))\n",
    "\n",
    "N = int(input())\n",
    "print_rangoli(N)"
   ]
  },
  {
   "cell_type": "markdown",
   "metadata": {},
   "source": [
    "## Capitalize!"
   ]
  },
  {
   "cell_type": "code",
   "execution_count": null,
   "metadata": {},
   "outputs": [],
   "source": [
    "import string\n",
    "\n",
    "def solve(s):\n",
    "    L = []\n",
    "    \n",
    "    for i in range(len(s)):\n",
    "        \n",
    "        if (s[i-1] == \" \" or i == 0) and s[i] != \" \":\n",
    "            L.append(s[i].capitalize())\n",
    "        else:\n",
    "            L.append(s[i])\n",
    "        \n",
    "    return \"\".join(L)\n",
    "\n",
    "full_name = input()\n",
    "result = solve(full_name)\n",
    "print(result)"
   ]
  },
  {
   "cell_type": "markdown",
   "metadata": {},
   "source": [
    "## String Formatting"
   ]
  },
  {
   "cell_type": "code",
   "execution_count": null,
   "metadata": {},
   "outputs": [],
   "source": [
    "def print_formatted(number):\n",
    "    space = len(bin(number))+1\n",
    "    \n",
    "    for i in range(1,number+1):\n",
    "        \n",
    "        print((\"{}\".rjust(space-len(str(i))-1)\n",
    "               +\"{}\".rjust(space-len(oct(i)[2:]))\n",
    "              +\"{}\".rjust(space-len(hex(i)[2:]))\n",
    "               +\"{}\".rjust(space-len(bin(i)[2:]))).format(i, oct(i)[2:], hex(i)[2:].swapcase(), bin(i)[2:]))\n",
    "\n",
    "n = int(input())\n",
    "print_formatted(n)"
   ]
  },
  {
   "cell_type": "markdown",
   "metadata": {},
   "source": [
    "## The Minion Game"
   ]
  },
  {
   "cell_type": "code",
   "execution_count": null,
   "metadata": {},
   "outputs": [],
   "source": [
    "# this is a right solution but it is too slow for some test on HackerRank\n",
    "# I use the function \"count_substring\" defined to resolve the exercise \"find a string\"\n",
    "\n",
    "def count_substring(string, sub_string):\n",
    "    k = 0\n",
    "    for i in range(len(string)):\n",
    "            if string[i:i+len(sub_string)] == sub_string:\n",
    "                k += 1\n",
    "    return k\n",
    "\n",
    "def minion_game(s):\n",
    "    l = []\n",
    "    v = set()\n",
    "    c = set()\n",
    "    vowels = \"AEIOU\"\n",
    "    consonants = \"BCDFGHJKLMNPQRSTVWXYZ\"\n",
    "    stuart_score = [\"Stuart\", 0]\n",
    "    kevin_score = [\"Kevin\", 0]\n",
    "\n",
    "    for i in range(1,len(s)+1):\n",
    "        for j in range(len(s)):\n",
    "            if s[j:i] != \"\":\n",
    "                l.append(s[j:i])\n",
    "\n",
    "    l = set(l)\n",
    "\n",
    "    for i in l:\n",
    "        for j in vowels:\n",
    "            if i[0] == j: v.add(i)\n",
    "        for k in consonants:\n",
    "            if i[0] == k: c.add(i)\n",
    "                \n",
    "    for i in v:\n",
    "        kevin_score[1] += count_substring(s, i)\n",
    "    for j in c:\n",
    "        stuart_score[1] += count_substring(s, j)\n",
    "    \n",
    "    if stuart_score[1] > kevin_score[1]:\n",
    "        print(stuart_score[0]+\" \"+str(stuart_score[1]))\n",
    "    elif stuart_score[1] == kevin_score[1]:\n",
    "        print(\"Draw\")\n",
    "    else: \n",
    "        print(kevin_score[0]+\" \"+str(kevin_score[1]))\n",
    "\n",
    "word = input()\n",
    "minion_game(word)"
   ]
  },
  {
   "cell_type": "markdown",
   "metadata": {},
   "source": [
    "## Merge the Tools!"
   ]
  },
  {
   "cell_type": "code",
   "execution_count": null,
   "metadata": {},
   "outputs": [],
   "source": [
    "# Even this is a too slow solution\n",
    "\n",
    "def merge_the_tools(s, k):\n",
    "    l = len(s)//k\n",
    "    sub_seq = []\n",
    "    \n",
    "    for i in range(0, len(s), l):\n",
    "        sub_seq.append(list(s[i : i+l])[::-1])\n",
    "    \n",
    "    for i in sub_seq:\n",
    "        for j in i:\n",
    "            while( i.count(j) > 1):\n",
    "                i.remove(j)\n",
    "                \n",
    "        print(\"\".join(i[::-1]))\n",
    "        \n",
    "string = input()\n",
    "length_subseq = int(input())\n",
    "merge_the_tools(string, length_subseq)"
   ]
  },
  {
   "cell_type": "markdown",
   "metadata": {},
   "source": [
    "# Sets"
   ]
  },
  {
   "cell_type": "markdown",
   "metadata": {},
   "source": [
    "## Introduction to Sets"
   ]
  },
  {
   "cell_type": "code",
   "execution_count": null,
   "metadata": {},
   "outputs": [],
   "source": [
    "def average(array):\n",
    "    return sum(set(array))/len(set(array))\n",
    "\n",
    "\n",
    "n = int(input())\n",
    "arr = list(map(int, input().split()))\n",
    "result = average(arr)\n",
    "print(result)"
   ]
  },
  {
   "cell_type": "markdown",
   "metadata": {},
   "source": [
    "## Symmetric Difference"
   ]
  },
  {
   "cell_type": "code",
   "execution_count": null,
   "metadata": {},
   "outputs": [],
   "source": [
    "M = int(input())\n",
    "M_set = set(map(int, input().split()))\n",
    "N = int(input())\n",
    "N_set = set(map(int, input().split()))\n",
    "\n",
    "sym_diff_set = M_set.difference(N_set).union(N_set.difference(M_set))\n",
    "sym_diff = list(sym_diff_set)\n",
    "sym_diff.sort()\n",
    "for i in sym_diff:\n",
    "    print(i)"
   ]
  },
  {
   "cell_type": "markdown",
   "metadata": {},
   "source": [
    "## NO Idea!"
   ]
  },
  {
   "cell_type": "code",
   "execution_count": null,
   "metadata": {},
   "outputs": [],
   "source": [
    "def happiness(array, A, B):\n",
    "    h_score = 0\n",
    "    union = A.union(B)\n",
    "    is_in_A = A.intersection(array)\n",
    "    count = 0\n",
    "    \n",
    "    for i in array:\n",
    "        if i not in union: continue\n",
    "        elif i in is_in_A: h_score += 1\n",
    "        else: h_score -= 1\n",
    "\n",
    "    return h_score\n",
    "    \n",
    "n, m = map(int, input().split())\n",
    "num = list(map(int, input().split()))\n",
    "like_num = set(map(int, input().split()))\n",
    "unlike_num = set(map(int, input().split()))\n",
    "\n",
    "print(happiness(num, like_num, unlike_num))"
   ]
  },
  {
   "cell_type": "markdown",
   "metadata": {},
   "source": [
    "## Set .add()"
   ]
  },
  {
   "cell_type": "code",
   "execution_count": null,
   "metadata": {},
   "outputs": [],
   "source": [
    "N = int(input())\n",
    "countries = set()\n",
    "for i in range(N):\n",
    "    countries.add(input())\n",
    "    \n",
    "print(len(countries))"
   ]
  },
  {
   "cell_type": "markdown",
   "metadata": {},
   "source": [
    "## Set .discard(), .remove() & .pop()"
   ]
  },
  {
   "cell_type": "code",
   "execution_count": null,
   "metadata": {},
   "outputs": [],
   "source": [
    "n = int(input())\n",
    "s = set(map(int, input().split()))\n",
    "N = int(input())\n",
    "\n",
    "for i in range(N):\n",
    "    command = input().split()\n",
    "    \n",
    "    if len(command) == 2:\n",
    "        command[1] = int(command[1])\n",
    "        \n",
    "        if command[0] == \"remove\":\n",
    "            s.remove(command[1])\n",
    "        elif command[0] == \"discard\":\n",
    "            s.discard(command[1])\n",
    "            \n",
    "    if len(command) == 1:\n",
    "        s.pop()\n",
    "        \n",
    "print(sum(s))    "
   ]
  },
  {
   "cell_type": "markdown",
   "metadata": {},
   "source": [
    "## Set .union() Operation"
   ]
  },
  {
   "cell_type": "code",
   "execution_count": null,
   "metadata": {},
   "outputs": [],
   "source": [
    "e = int(input())\n",
    "english_news = set(map(int, input().split()))\n",
    "f = int(input())\n",
    "french_news = set(map(int, input().split()))\n",
    "\n",
    "students_1_subscription = english_news.union(french_news)\n",
    "print(len(students_1_subscription))"
   ]
  },
  {
   "cell_type": "markdown",
   "metadata": {},
   "source": [
    "## Set .intersection() Operation"
   ]
  },
  {
   "cell_type": "code",
   "execution_count": null,
   "metadata": {},
   "outputs": [],
   "source": [
    "e = int(input())\n",
    "english_news = set(map(int, input().split()))\n",
    "f = int(input())\n",
    "french_news = set(map(int, input().split()))\n",
    "\n",
    "students_both_subscriptions = english_news.intersection(french_news)\n",
    "print(len(students_both_subscriptions))"
   ]
  },
  {
   "cell_type": "markdown",
   "metadata": {},
   "source": [
    "## Set .difference() Operation"
   ]
  },
  {
   "cell_type": "code",
   "execution_count": null,
   "metadata": {},
   "outputs": [],
   "source": [
    "e = int(input())\n",
    "english_news = set(map(int, input().split()))\n",
    "f = int(input())\n",
    "french_news = set(map(int, input().split()))\n",
    "\n",
    "students_english_subscription = english_news.difference(french_news)\n",
    "print(len(students_english_subscription))"
   ]
  },
  {
   "cell_type": "markdown",
   "metadata": {},
   "source": [
    "## Set .symmetric_difference() Operation"
   ]
  },
  {
   "cell_type": "code",
   "execution_count": null,
   "metadata": {},
   "outputs": [],
   "source": [
    "e = int(input())\n",
    "english_news = set(map(int, input().split()))\n",
    "f = int(input())\n",
    "french_news = set(map(int, input().split()))\n",
    "\n",
    "students_EorF_subscription = english_news.symmetric_difference(french_news)\n",
    "print(len(students_EorF_subscription))"
   ]
  },
  {
   "cell_type": "markdown",
   "metadata": {},
   "source": [
    "## Set Mutations"
   ]
  },
  {
   "cell_type": "code",
   "execution_count": null,
   "metadata": {},
   "outputs": [],
   "source": [
    "N = int(input())\n",
    "A = set(map(int, input().split()))\n",
    "N_sets = int(input())\n",
    "\n",
    "for i in range(N_sets):\n",
    "    command, length = input().split()\n",
    "    length = int(length)\n",
    "    B = set(map(int, input().split()))\n",
    "    \n",
    "    if command == \"update\":\n",
    "        A.update(B)\n",
    "    elif command == \"intersection_update\":\n",
    "        A.intersection_update(B)\n",
    "    elif command == \"difference_update\":\n",
    "        A.difference_update(B)\n",
    "    elif command == \"symmetric_difference_update\":\n",
    "        A.symmetric_difference_update(B)\n",
    "        \n",
    "print(sum(A))"
   ]
  },
  {
   "cell_type": "markdown",
   "metadata": {},
   "source": [
    "## The Captain's Room"
   ]
  },
  {
   "cell_type": "code",
   "execution_count": null,
   "metadata": {},
   "outputs": [],
   "source": [
    "from collections import Counter\n",
    "\n",
    "K = int(input())\n",
    "numbers_room = list(map(int, input().split()))\n",
    "\n",
    "occurence_room = Counter(numbers_room)\n",
    "rooms = set(numbers_room)\n",
    "\n",
    "for i in rooms:\n",
    "    if occurence_room[i] == 1:\n",
    "        print(i)"
   ]
  },
  {
   "cell_type": "code",
   "execution_count": null,
   "metadata": {},
   "outputs": [],
   "source": [
    "# this was my solution before I knew the \"Counter\" function from \"collections\" library \n",
    "# (it was a too slow solution for some test on HackerRank)\n",
    "\n",
    "K = int(input())\n",
    "numbers_room = list(map(int, input().split()))\n",
    "l = len(numbers_room)\n",
    "s, u, diff = set(), set(), set()\n",
    "captain_room = []\n",
    "               \n",
    "for i in range(0, l, K-1):\n",
    "    s = (set(numbers_room[i:i+K-1]))\n",
    "    u = (set(numbers_room[0:i])).union(set(numbers_room[i+K-1:l]))\n",
    "    diff = s.difference(u)\n",
    "    \n",
    "    if len(diff) == 1:\n",
    "        captain_room = list(diff)\n",
    "        print(captain_room[0])\n",
    "        break"
   ]
  },
  {
   "cell_type": "markdown",
   "metadata": {},
   "source": [
    "## Check Subset"
   ]
  },
  {
   "cell_type": "code",
   "execution_count": null,
   "metadata": {},
   "outputs": [],
   "source": [
    "test_cases = int(input())\n",
    "\n",
    "for i in range(test_cases):\n",
    "    n_A = int(input())\n",
    "    A = set(map(int, input().split()))\n",
    "    n_B = int(input())\n",
    "    B = set(map(int, input().split()))\n",
    "    \n",
    "    C = A.intersection(B)\n",
    "    if len(C) == n_A: print(True)\n",
    "    else: print(False)"
   ]
  },
  {
   "cell_type": "markdown",
   "metadata": {},
   "source": [
    "## Check Strict Superset"
   ]
  },
  {
   "cell_type": "code",
   "execution_count": null,
   "metadata": {},
   "outputs": [],
   "source": [
    "A = set(map(int, input().split()))\n",
    "n = int(input())\n",
    "counter = 0\n",
    "\n",
    "for i in range(n):\n",
    "    B = set(map(int, input().split()))\n",
    "    C = A.intersection(B)\n",
    "    D = A.difference(B)\n",
    "    \n",
    "    if len(C) == len(B) and len(D) >= 1: counter += 1\n",
    "    \n",
    "if counter == n: print(True)\n",
    "else: print(False)"
   ]
  },
  {
   "cell_type": "markdown",
   "metadata": {},
   "source": [
    "# Collections"
   ]
  },
  {
   "cell_type": "markdown",
   "metadata": {},
   "source": [
    "## collections.Counter()"
   ]
  },
  {
   "cell_type": "code",
   "execution_count": null,
   "metadata": {},
   "outputs": [],
   "source": [
    "from collections import Counter\n",
    "\n",
    "x = int(input())\n",
    "sizes = list(map(int, input().split()))\n",
    "dict_sizes = Counter(sizes)\n",
    "N = int(input())\n",
    "required_sizes = []\n",
    "money = 0\n",
    "\n",
    "for i in range(N):\n",
    "    num, price = map(int, input().split())\n",
    "    required_sizes.append(num)\n",
    "    if Counter(required_sizes)[num] <= dict_sizes[num]:\n",
    "        money += price\n",
    "\n",
    "print(money)"
   ]
  },
  {
   "cell_type": "markdown",
   "metadata": {},
   "source": [
    "## DefaultDict Tutorial"
   ]
  },
  {
   "cell_type": "code",
   "execution_count": null,
   "metadata": {},
   "outputs": [],
   "source": [
    "from collections import defaultdict\n",
    "from collections import Counter\n",
    "\n",
    "d = defaultdict(list)\n",
    "n, m = map(int, input().split())\n",
    "\n",
    "for i in range(n):\n",
    "    d[\"A\"].append(input())\n",
    "for i in range(m):\n",
    "    d[\"B\"].append(input())\n",
    "    \n",
    "for i in d[\"B\"]:\n",
    "    occ = 0\n",
    "    for j in range(len(d[\"A\"])):\n",
    "        if i == d[\"A\"][j]:\n",
    "            occ += 1\n",
    "            print(j+1, end=\" \")\n",
    "    if occ > 0:\n",
    "        print(\"\\n\", end=\"\")\n",
    "    else: \n",
    "        print(-1)"
   ]
  },
  {
   "cell_type": "markdown",
   "metadata": {},
   "source": [
    "## Collections.namedtuple()"
   ]
  },
  {
   "cell_type": "code",
   "execution_count": null,
   "metadata": {},
   "outputs": [],
   "source": [
    "from collections import namedtuple\n",
    "\n",
    "N = int(input())\n",
    "Students = namedtuple(\"Students\", input())\n",
    "st = []\n",
    "s = 0\n",
    "\n",
    "for i in range(N):\n",
    "    st.append(Students(*input().split()))\n",
    "    s += float(st[i].MARKS)\n",
    "\n",
    "print(\"{:.2f}\".format(s/N))"
   ]
  },
  {
   "cell_type": "markdown",
   "metadata": {},
   "source": [
    "## Collections.OrderedDict()"
   ]
  },
  {
   "cell_type": "code",
   "execution_count": null,
   "metadata": {},
   "outputs": [],
   "source": [
    "from collections import OrderedDict\n",
    "from collections import Counter\n",
    "\n",
    "N = int(input())\n",
    "items = []\n",
    "items_price = OrderedDict()\n",
    "\n",
    "for i in range(N):\n",
    "    l = input().split()\n",
    "    price = int(l[-1])\n",
    "    item = \"\"\n",
    "    for j in range( len(l)-1):\n",
    "        if j == len(l)-2:\n",
    "            item += l[j]\n",
    "        else:\n",
    "            item += l[j]+\" \"\n",
    "    \n",
    "    items_price[item] = price\n",
    "    items.append(item)\n",
    "    \n",
    "for i in items_price:\n",
    "    print(i, Counter(items)[i]*items_price[i])"
   ]
  },
  {
   "cell_type": "markdown",
   "metadata": {},
   "source": [
    "## Word Order"
   ]
  },
  {
   "cell_type": "code",
   "execution_count": null,
   "metadata": {},
   "outputs": [],
   "source": [
    "# It is too slow solution for 4 test cases on HackerRank\n",
    "\n",
    "from collections import OrderedDict\n",
    "from collections import Counter\n",
    "\n",
    "n = int(input())\n",
    "words = []\n",
    "ordered_words = OrderedDict()\n",
    "\n",
    "for i in range(n):\n",
    "    words.append(input())\n",
    "    ordered_words[words[i]] = i\n",
    "    \n",
    "print(len(ordered_words))\n",
    "for i in ordered_words:\n",
    "    print(Counter(words)[i], end=\" \")"
   ]
  },
  {
   "cell_type": "markdown",
   "metadata": {},
   "source": [
    "## Collections.deque()"
   ]
  },
  {
   "cell_type": "code",
   "execution_count": null,
   "metadata": {},
   "outputs": [],
   "source": [
    "from collections import deque\n",
    "\n",
    "N = int(input())\n",
    "d = deque()\n",
    "commands = []\n",
    "\n",
    "for i in range(N):\n",
    "    commands = input().split()\n",
    "    \n",
    "    if len(commands) == 2:\n",
    "        commands[1] = int(commands[1])\n",
    "        if commands[0] == \"append\":\n",
    "            d.append(commands[1])\n",
    "        elif commands[0] == \"appendleft\":\n",
    "            d.appendleft(commands[1])\n",
    "    else:\n",
    "        if commands[0] == \"pop\":\n",
    "            d.pop()\n",
    "        elif commands[0] == \"popleft\":\n",
    "            d.popleft()\n",
    "\n",
    "for i in d:\n",
    "    print(i, end=\" \")"
   ]
  },
  {
   "cell_type": "markdown",
   "metadata": {},
   "source": [
    "## Company Logo"
   ]
  },
  {
   "cell_type": "code",
   "execution_count": null,
   "metadata": {},
   "outputs": [],
   "source": [
    "# This solution has a problem with \"test case 1\" on HackerRank\n",
    "\n",
    "from collections import Counter\n",
    "from collections import defaultdict\n",
    "import string\n",
    "\n",
    "company = list(input())\n",
    "d = []\n",
    "occurence = []\n",
    "\n",
    "ord_d = []\n",
    "ord_occurence = []\n",
    "\n",
    "M = 0\n",
    "low_case = string.ascii_lowercase\n",
    "\n",
    "for i in company:\n",
    "    if i not in d:\n",
    "        d.append(i)\n",
    "        occurence.append(Counter(company)[i])\n",
    "\n",
    "for i in range(len(d)):\n",
    "    M = max(occurence)\n",
    "    ord_occurence.append(M)\n",
    "    ord_d.append(d[occurence.index(M)])\n",
    "    occurence.remove(ord_occurence[i])\n",
    "    d.remove(ord_d[i])\n",
    "\n",
    "for i in range(1,len(ord_d)):\n",
    "    if ord_occurence[i-1] == ord_occurence[i] and low_case.find(ord_d[i]) < low_case.find(ord_d[i-1]):\n",
    "        d.append(ord_d[i])\n",
    "    else:\n",
    "        d.append(ord_d[i-1])\n",
    "        \n",
    "for i in range(3):\n",
    "    print(d[i], ord_occurence[i])"
   ]
  },
  {
   "cell_type": "markdown",
   "metadata": {},
   "source": [
    "# Date and Time"
   ]
  },
  {
   "cell_type": "markdown",
   "metadata": {},
   "source": [
    "## Calendar Module"
   ]
  },
  {
   "cell_type": "code",
   "execution_count": null,
   "metadata": {},
   "outputs": [],
   "source": [
    "import calendar\n",
    "\n",
    "M, D, Y = map(int, input().split())\n",
    "\n",
    "month = calendar.TextCalendar(firstweekday=0)\n",
    "\n",
    "for i in month.itermonthdays4(Y, M):\n",
    "    if i[1] == M and i[2] == D:\n",
    "        if i[3] == 0:\n",
    "            print(\"MONDAY\")\n",
    "        elif i[3] == 1:\n",
    "            print(\"TUESDAY\")\n",
    "        elif i[3] == 2:\n",
    "            print(\"WEDNESDAY\")\n",
    "        elif i[3] == 3:\n",
    "            print(\"THURSDAY\")\n",
    "        elif i[3] == 4:\n",
    "            print(\"FRIDAY\")\n",
    "        elif i[3] == 5: \n",
    "            print(\"SATURDAY\") \n",
    "        else:\n",
    "            print(\"SUNDAY\")"
   ]
  },
  {
   "cell_type": "markdown",
   "metadata": {},
   "source": [
    "## Time Delta"
   ]
  },
  {
   "cell_type": "code",
   "execution_count": null,
   "metadata": {},
   "outputs": [],
   "source": [
    "# This is my attempt to solve the challenge \"time delta\"  (this code pass only test case 0)\n",
    "# I was looking for a method to switch from month's name to month's number\n",
    "\n",
    "import math\n",
    "\n",
    "def delta_time(day1, day2, time1, time2, utc1, utc2):\n",
    "    delta_t = 0\n",
    "    \n",
    "\n",
    "    delta_t += (day1-day2)*86400\n",
    "    delta_t += ((time1[0] + utc2[0])- (time2[0]+utc1[0]))*3600+ \\\n",
    "    ((time1[1]+utc2[1])-(time2[1]+utc1[1]))*60+(time1[2]-time2[2])\n",
    "    \n",
    "    return int(delta_t)\n",
    "\n",
    "N = int(input())\n",
    "test = []\n",
    "test_day = []\n",
    "test_time = []\n",
    "test_UTC = []\n",
    "\n",
    "for i in range(2*N):\n",
    "    test.append(list(input().split()))\n",
    "    \n",
    "    test_day.append(int(test[i][1]))\n",
    "    test_time.append(list(map(int, test[i][4].split(\":\"))))\n",
    "    test_UTC.append( [ int(test[i][5][0:3]) , math.copysign( int(test[i][5][-2:]) , int(test[i][5][0:3]) ) ] )\n",
    "    \n",
    "\n",
    "for i in range(1, len(test), 2):\n",
    "    print(delta_time(test_day[i-1], test_day[i], test_time[i-1], test_time[i], test_UTC[i-1], test_UTC[i]))"
   ]
  },
  {
   "cell_type": "markdown",
   "metadata": {},
   "source": [
    "# Errors and Exceptions"
   ]
  },
  {
   "cell_type": "markdown",
   "metadata": {},
   "source": [
    "## Exceptions"
   ]
  },
  {
   "cell_type": "code",
   "execution_count": null,
   "metadata": {},
   "outputs": [],
   "source": [
    "N = int(input())\n",
    "\n",
    "for i in range(N):\n",
    "    a, b = input().split()\n",
    "    \n",
    "    try:\n",
    "        print(int(int(a)/int(b)))\n",
    "    except ZeroDivisionError as err1:                               \n",
    "        print(\"Error Code: integer division or modulo by zero\")    \n",
    "    except ValueError as err2:\n",
    "        print(\"Error Code:\", err2)"
   ]
  },
  {
   "cell_type": "markdown",
   "metadata": {},
   "source": [
    "# Built-Ins"
   ]
  },
  {
   "cell_type": "markdown",
   "metadata": {},
   "source": [
    "## Zipped!"
   ]
  },
  {
   "cell_type": "code",
   "execution_count": null,
   "metadata": {},
   "outputs": [],
   "source": [
    "N, X = map( int, input().split() )\n",
    "subj_score = []\n",
    "\n",
    "for i in range(X):\n",
    "       subj_score.append( (list( map(float, input().split()) )) )\n",
    "\n",
    "students = list( zip(*subj_score) )\n",
    "\n",
    "for s in students:\n",
    "    print( \"{:.1f}\".format(sum(s)/X) )"
   ]
  },
  {
   "cell_type": "markdown",
   "metadata": {},
   "source": [
    "## Athlete Sort"
   ]
  },
  {
   "cell_type": "code",
   "execution_count": null,
   "metadata": {},
   "outputs": [],
   "source": [
    "from collections import OrderedDict\n",
    "\n",
    "N, M = map( int, input().split() )\n",
    "ath_attribute = []\n",
    "\n",
    "for i in range(N):\n",
    "    ath_attribute.append( list( map(int, input().split()) ) )\n",
    "    \n",
    "K = int( input() )\n",
    "    \n",
    "# I sort the matrix based on the value of column K, thanks to the \"key\" argument and a lambda function\n",
    "\n",
    "ord_ath_attribute = sorted( ath_attribute, key = lambda x: x[K] ) \n",
    "\n",
    "for i in ord_ath_attribute:\n",
    "    print( *i )"
   ]
  },
  {
   "cell_type": "markdown",
   "metadata": {},
   "source": [
    "## ginortS"
   ]
  },
  {
   "cell_type": "code",
   "execution_count": null,
   "metadata": {},
   "outputs": [],
   "source": [
    "import string\n",
    "\n",
    "def sort_s1_with_s2(s1, s2):\n",
    "    \n",
    "    l = []\n",
    "    s3 = \"\"\n",
    "    \n",
    "    for i in s1:\n",
    "        l.append( [i,s2.index(i)] )\n",
    "        \n",
    "    l = sorted( l, key = lambda x: x[1] )\n",
    "    \n",
    "    for i in l:\n",
    "        s3 += i[0]\n",
    "    \n",
    "    return s3\n",
    "        \n",
    "\n",
    "s = input()\n",
    "low, up, odd_digit, even_digit = \"\", \"\", \"\", \"\"\n",
    "\n",
    "for i in s:\n",
    "    if i.islower() == True:\n",
    "        low += i\n",
    "    elif i.isupper() == True:\n",
    "        up += i\n",
    "    elif int(i)%2 != 0:\n",
    "        odd_digit += i\n",
    "    else:\n",
    "        even_digit += i\n",
    "        \n",
    "low = sort_s1_with_s2( low, string.ascii_lowercase)\n",
    "up = sort_s1_with_s2( up, string.ascii_uppercase)\n",
    "odd_digit = sort_s1_with_s2( odd_digit, string.digits)\n",
    "even_digit = sort_s1_with_s2( even_digit, string.digits)\n",
    "\n",
    "print( low + up + odd_digit + even_digit )"
   ]
  },
  {
   "cell_type": "markdown",
   "metadata": {},
   "source": [
    "# Python Functionals"
   ]
  },
  {
   "cell_type": "markdown",
   "metadata": {},
   "source": [
    "## Map and Lambda Function"
   ]
  },
  {
   "cell_type": "code",
   "execution_count": null,
   "metadata": {},
   "outputs": [],
   "source": [
    "cube = lambda x: x**3\n",
    "\n",
    "def fibonacci(n):\n",
    "    succ = []\n",
    "    \n",
    "    for i in range(n):\n",
    "        if i==0 or i==1:\n",
    "            succ.append( i )\n",
    "        else:\n",
    "            succ.append( succ[i-1]+succ[i-2] )\n",
    "            \n",
    "    return succ\n",
    "\n",
    "\n",
    "n = int(input())\n",
    "print(list(map(cube, fibonacci(n))))"
   ]
  },
  {
   "cell_type": "markdown",
   "metadata": {},
   "source": [
    "# Regex and Parsing"
   ]
  },
  {
   "cell_type": "markdown",
   "metadata": {},
   "source": [
    "## Detect Floating Point Number"
   ]
  },
  {
   "cell_type": "code",
   "execution_count": null,
   "metadata": {},
   "outputs": [],
   "source": [
    "def detect_float(s):\n",
    "    \n",
    "    try:\n",
    "        a = float(s)\n",
    "    except:\n",
    "        return False\n",
    "        \n",
    "    \n",
    "    if s.count(\".\") == 1 and s[-1] != \".\":\n",
    "        return True\n",
    "    else:\n",
    "        return False\n",
    "    \n",
    "        \n",
    "\n",
    "T = int(input())\n",
    "\n",
    "for i in range(T):\n",
    "    N = input()\n",
    "    print(detect_float(N))"
   ]
  },
  {
   "cell_type": "markdown",
   "metadata": {},
   "source": [
    "## Re.split()"
   ]
  },
  {
   "cell_type": "code",
   "execution_count": null,
   "metadata": {},
   "outputs": [],
   "source": [
    "import re\n",
    "\n",
    "regex_pattern = r\"[,.]\"\n",
    "print(\"\\n\".join(re.split(regex_pattern, input())))"
   ]
  },
  {
   "cell_type": "markdown",
   "metadata": {},
   "source": [
    "## Group(), Groups() & Groupdict()"
   ]
  },
  {
   "cell_type": "code",
   "execution_count": null,
   "metadata": {},
   "outputs": [],
   "source": [
    "import re\n",
    "\n",
    "s = input()\n",
    "g = re.search(r'([a-zA-Z0-9])\\1', s)\n",
    "\n",
    "if g:\n",
    "    print(g.group(1))\n",
    "else:\n",
    "    print(\"-1\")"
   ]
  },
  {
   "cell_type": "markdown",
   "metadata": {},
   "source": [
    "## Re.findall() & Re.finditer()"
   ]
  },
  {
   "cell_type": "code",
   "execution_count": null,
   "metadata": {},
   "outputs": [],
   "source": [
    "import re \n",
    "\n",
    "s = input()\n",
    "g = re.findall(r\"(?<=[QWRTYPSDFGHJKLZXCVBNMwrtypsdfghjklzxcvbnm])([AEIOUaeiou]{2,})[QWRTYPSDFGHJKLZXCVBNMwrtypsdfghjklzxcvbnm]\", s)\n",
    "\n",
    "if len(g) == 0:\n",
    "    print(-1)\n",
    "else:\n",
    "    for i in g:\n",
    "        print(i)"
   ]
  },
  {
   "cell_type": "markdown",
   "metadata": {},
   "source": [
    "## Re.start() & Re.edn()"
   ]
  },
  {
   "cell_type": "code",
   "execution_count": null,
   "metadata": {},
   "outputs": [],
   "source": [
    "import re\n",
    "\n",
    "S = input()\n",
    "k = input()\n",
    "j = 0\n",
    "\n",
    "for i in range(len(S) - len(k)):\n",
    "    if k in S[j:]:\n",
    "        \n",
    "        g = re.search(r\"(\" + k +\")\", S[j:])\n",
    "        tup = (g.start()+j, g.end()+j-1)\n",
    "        print( tup )\n",
    "        j += g.start()+1\n",
    "        \n",
    "    elif j == 0:\n",
    "        tup = (-1,-1)\n",
    "        print( tup )\n",
    "        break"
   ]
  },
  {
   "cell_type": "markdown",
   "metadata": {},
   "source": [
    "## Regex Substitution"
   ]
  },
  {
   "cell_type": "code",
   "execution_count": null,
   "metadata": {},
   "outputs": [],
   "source": [
    "import re\n",
    "\n",
    "N = int(input())\n",
    "new_text = []\n",
    "\n",
    "for i in range(N):\n",
    "    text = input() \n",
    "\n",
    "    new_text_0 = re.sub(r\" &&(?= )\", \" and\", text )\n",
    "    new_text.append( re.sub(r\" \\|\\|(?= )\", \" or\", new_text_0) )\n",
    "\n",
    "for i in new_text:\n",
    "    print( i )"
   ]
  },
  {
   "cell_type": "markdown",
   "metadata": {},
   "source": [
    "# Numpy"
   ]
  },
  {
   "cell_type": "markdown",
   "metadata": {},
   "source": [
    "## Arrays"
   ]
  },
  {
   "cell_type": "code",
   "execution_count": null,
   "metadata": {},
   "outputs": [],
   "source": [
    "import numpy \n",
    "\n",
    "def arrays(arr):\n",
    "    a = numpy.array( arr, float)\n",
    "    return numpy.flip(a)\n",
    "\n",
    "arr = input().strip().split(' ')\n",
    "result = arrays(arr)\n",
    "print(result)"
   ]
  },
  {
   "cell_type": "markdown",
   "metadata": {},
   "source": [
    "## Shape and Reshape"
   ]
  },
  {
   "cell_type": "code",
   "execution_count": null,
   "metadata": {},
   "outputs": [],
   "source": [
    "import numpy as np\n",
    "\n",
    "a = list( map(int, input().split()) )\n",
    "np.array(a)\n",
    "\n",
    "a_matrix = np.reshape(a, (3,3))\n",
    "print(a_matrix)"
   ]
  },
  {
   "cell_type": "markdown",
   "metadata": {},
   "source": [
    "## Transpose and Flatten"
   ]
  },
  {
   "cell_type": "code",
   "execution_count": null,
   "metadata": {},
   "outputs": [],
   "source": [
    "import numpy as np \n",
    "\n",
    "N, M = map(int, input().split())\n",
    "L = []\n",
    "\n",
    "for i in range(N):\n",
    "    L.append( list( map(int, input().split()) ) )\n",
    "    \n",
    "matrix = np.array(L)\n",
    "print( np.transpose( matrix ) )\n",
    "print( matrix.flatten() )"
   ]
  },
  {
   "cell_type": "markdown",
   "metadata": {},
   "source": [
    "## Concatenate"
   ]
  },
  {
   "cell_type": "code",
   "execution_count": null,
   "metadata": {},
   "outputs": [],
   "source": [
    "import numpy as np\n",
    "\n",
    "N, M, P = map(int, input().split())\n",
    "\n",
    "M_1 = []\n",
    "M_2 = []\n",
    "\n",
    "for i in range(N):\n",
    "    M_1.append( list( map(int, input().split()) ) )\n",
    "for i in range(M):\n",
    "    M_2.append( list( map(int, input().split()) ) )\n",
    "    \n",
    "M_1 = np.array( M_1 )\n",
    "M_2 = np.array( M_2 )\n",
    "\n",
    "print( np.concatenate( (M_1, M_2) , axis = 0 ) )"
   ]
  },
  {
   "cell_type": "markdown",
   "metadata": {},
   "source": [
    "## Zeros and Ones"
   ]
  },
  {
   "cell_type": "code",
   "execution_count": null,
   "metadata": {},
   "outputs": [],
   "source": [
    "import numpy as np\n",
    "\n",
    "dimensions = tuple( map(int, input().split()) )\n",
    "print( np.zeros( dimensions, dtype = np.int ) )\n",
    "print( np.ones( dimensions, dtype = np.int ))"
   ]
  },
  {
   "cell_type": "markdown",
   "metadata": {},
   "source": [
    "## Eye and Identity"
   ]
  },
  {
   "cell_type": "code",
   "execution_count": null,
   "metadata": {},
   "outputs": [],
   "source": [
    "import numpy as np\n",
    "\n",
    "N, M = map( int, input().split() )\n",
    "np.set_printoptions(legacy=\"1.13\")  # i need this line to print the result in same way HackerRank print it\n",
    "\n",
    "print( np.eye(N, M, k=0) )"
   ]
  },
  {
   "cell_type": "markdown",
   "metadata": {},
   "source": [
    "## Array Mathematics"
   ]
  },
  {
   "cell_type": "code",
   "execution_count": null,
   "metadata": {},
   "outputs": [],
   "source": [
    "import numpy as np\n",
    "\n",
    "a, b = [], []\n",
    "N, M = map( int, input().split() )\n",
    "\n",
    "for i in range(N):\n",
    "    a.append( list( map(int, input().split()) ) )\n",
    "for i in range(N):\n",
    "    b.append( list( map(int, input().split()) ) )\n",
    "    \n",
    "a = np.array(a)\n",
    "b = np.array(b)\n",
    "\n",
    "print(a+b)\n",
    "print(a-b)\n",
    "print(a*b)\n",
    "print(a//b)\n",
    "print(a%b)\n",
    "print(a**b)"
   ]
  },
  {
   "cell_type": "markdown",
   "metadata": {},
   "source": [
    "## Floor, Ceil and Rint"
   ]
  },
  {
   "cell_type": "code",
   "execution_count": null,
   "metadata": {},
   "outputs": [],
   "source": [
    "import numpy as np\n",
    "\n",
    "a = np.array( list( map(float, input().split() ) ) )\n",
    "np.set_printoptions(legacy=\"1.13\")     # i need this line to print the result in same way HackerRank print it\n",
    "\n",
    "print( np.floor(a) )\n",
    "print( np.ceil(a) )\n",
    "print( np.rint(a) )"
   ]
  },
  {
   "cell_type": "markdown",
   "metadata": {},
   "source": [
    "## Sum and Prod"
   ]
  },
  {
   "cell_type": "code",
   "execution_count": null,
   "metadata": {},
   "outputs": [],
   "source": [
    "import numpy as np\n",
    "\n",
    "N, M = map( int, input().split() )\n",
    "matrix = []\n",
    "\n",
    "for i in range(N):\n",
    "    matrix.append( list( map(int, input().split()) ) )\n",
    "    \n",
    "matrix = np.array(matrix)\n",
    "matrix_sum_axis0 = np.sum( matrix, axis=0 )\n",
    "print( np.prod( matrix_sum_axis0 ) )"
   ]
  },
  {
   "cell_type": "markdown",
   "metadata": {},
   "source": [
    "## Min and Max"
   ]
  },
  {
   "cell_type": "code",
   "execution_count": null,
   "metadata": {},
   "outputs": [],
   "source": [
    "import numpy as np\n",
    "\n",
    "N, M = map( int, input().split() )\n",
    "arr = []\n",
    "\n",
    "for i in range(N):\n",
    "    arr.append( list( map( int, input().split()) ) )\n",
    "\n",
    "matrix = np.array( arr )\n",
    "print( np.max( np.min( matrix, axis=1 ) ) )"
   ]
  },
  {
   "cell_type": "markdown",
   "metadata": {},
   "source": [
    "## Mean, Var and Std"
   ]
  },
  {
   "cell_type": "code",
   "execution_count": null,
   "metadata": {},
   "outputs": [],
   "source": [
    "import numpy as np\n",
    "\n",
    "N, M = map( int, input().split() )\n",
    "arr = []\n",
    "np.set_printoptions(legacy=\"1.13\")     # i need this line to print the result in same way HackerRank print it\n",
    "\n",
    "for i in range(N):\n",
    "    arr.append( list( map( int, input().split()) ) )\n",
    "    \n",
    "matrix = np.array( arr )\n",
    "\n",
    "print( np.mean( matrix, axis=1 ) )\n",
    "print( np.var( matrix, axis=0 ) )\n",
    "print( np.std( matrix ) )          # axis=None is the default value"
   ]
  },
  {
   "cell_type": "markdown",
   "metadata": {},
   "source": [
    "## Dot and Cross"
   ]
  },
  {
   "cell_type": "code",
   "execution_count": null,
   "metadata": {},
   "outputs": [],
   "source": [
    "import numpy as np\n",
    "\n",
    "N = int( input() )\n",
    "a, b = [], []\n",
    "\n",
    "for i in range(N):\n",
    "    a.append( list( map( int, input().split()) ) )\n",
    "for i in range(N):\n",
    "    b.append( list( map( int, input().split()) ) )\n",
    "    \n",
    "a = np.array(a)\n",
    "b = np.array(b)\n",
    "    \n",
    "print( np.dot(a, b) )         # if a and b are 2-D arrays, np.dot() is already a matrix multiplication"
   ]
  },
  {
   "cell_type": "markdown",
   "metadata": {},
   "source": [
    "## Inner and Outer"
   ]
  },
  {
   "cell_type": "code",
   "execution_count": null,
   "metadata": {},
   "outputs": [],
   "source": [
    "import numpy as np\n",
    "\n",
    "a = np.array( list( map(int, input().split()) ) )\n",
    "b = np.array( list( map(int, input().split()) ) )\n",
    "\n",
    "print( np.inner(a,b) )\n",
    "print( np.outer(a,b) )"
   ]
  },
  {
   "cell_type": "markdown",
   "metadata": {},
   "source": [
    "## Polynomials"
   ]
  },
  {
   "cell_type": "code",
   "execution_count": null,
   "metadata": {},
   "outputs": [],
   "source": [
    "import numpy as np\n",
    "\n",
    "P = np.array( list( map(float, input().split()) ) )\n",
    "x = float( input() )\n",
    "\n",
    "print( np.polyval( P, x ) )"
   ]
  },
  {
   "cell_type": "markdown",
   "metadata": {},
   "source": [
    "## Linear Algebra"
   ]
  },
  {
   "cell_type": "code",
   "execution_count": null,
   "metadata": {},
   "outputs": [],
   "source": [
    "import numpy as np\n",
    "\n",
    "N = int( input() )\n",
    "arr = []\n",
    "\n",
    "for i in range(N):\n",
    "    arr.append( list( map(float, input().split()) ) )\n",
    "    \n",
    "matrix = np.array( arr )\n",
    "det = np.linalg.det( matrix )\n",
    "\n",
    "if str(det).find(\"0.\") != -1 and str(det).find(\"0.0\") == -1:     # i need to print others 2 charactes after \".\"\n",
    "    print( \"{:.2f}\" .format(det) )                               # only if str(det) contains a sub-string \"0.\" and \n",
    "else:                                                            # this sub-string is not followed by \"0\"\n",
    "    print( \"{:.1f}\" .format(det) )"
   ]
  },
  {
   "cell_type": "markdown",
   "metadata": {},
   "source": [
    "# PROBLEM 2"
   ]
  },
  {
   "cell_type": "markdown",
   "metadata": {},
   "source": [
    "## Birthday Cake Candles"
   ]
  },
  {
   "cell_type": "code",
   "execution_count": null,
   "metadata": {},
   "outputs": [],
   "source": [
    "from collections import Counter\n",
    "\n",
    "def birthdayCakeCandles(ar):\n",
    "    tallest = max(ar)\n",
    "    return Counter(ar)[tallest]\n",
    "\n",
    "N = int(input())\n",
    "candles_heights = list(map(int, input().split()))\n",
    "\n",
    "print(birthdayCakeCandles(candles_heights))"
   ]
  },
  {
   "cell_type": "markdown",
   "metadata": {},
   "source": [
    "## Kangaroo"
   ]
  },
  {
   "cell_type": "code",
   "execution_count": null,
   "metadata": {},
   "outputs": [],
   "source": [
    "# I update the position of the kangaroos at each step with the equation of motion x(t) = x_0+v*t, where\n",
    "# t is discrete and equal to th number of the step; then I calculate the distance between the two \n",
    "# and check if it is null (meeting case) or not\n",
    "\n",
    "# I check if the input is a trivial or an impossible condition with the first 2 if statements\n",
    "\n",
    "def kangaroo(x1, v1, x2, v2):\n",
    "    \n",
    "    if x1 == x2:                                             \n",
    "        print(\"YES\")\n",
    "        \n",
    "    elif (x1 > x2 and v1 >= v2) or (x2 > x1 and v2 >= v1):\n",
    "        print(\"NO\")\n",
    "        \n",
    "    else:\n",
    "        d = []\n",
    "        d.append(abs(x1-x2))\n",
    "        d.append(abs(x1-x2))\n",
    "        t = 1\n",
    "        \n",
    "        while (d[t] <= d[t-1]):\n",
    "            x1_new = x1+v1*t\n",
    "            x2_new = x2+v2*t\n",
    "            d.append(abs(x1_new-x2_new))\n",
    "            t += 1\n",
    "            \n",
    "            if d[t] == 0:\n",
    "                print(\"YES\")\n",
    "                break\n",
    "                \n",
    "            elif (d[t] > d[t-1]):               # if this happens, kangaroos are beginning to move away \n",
    "                print(\"NO\")                     # from each other\n",
    "                break\n",
    "\n",
    "x1, v1, x2, v2 = map(int, input().split())\n",
    "kangaroo(x1, v1, x2, v2)"
   ]
  },
  {
   "cell_type": "markdown",
   "metadata": {},
   "source": [
    "## Viral Advertising"
   ]
  },
  {
   "cell_type": "code",
   "execution_count": null,
   "metadata": {},
   "outputs": [],
   "source": [
    "# I implement the mathematical rules given by the exercise's text\n",
    "\n",
    "def viralAdvertising(n):\n",
    "    \n",
    "    d = {\"Day\" : [1], \"Shared\" : [5], \"Liked\" : [2], \"Cumulative\" : 2}\n",
    "\n",
    "    \n",
    "    for i in range(1,n):\n",
    "        \n",
    "        d[\"Day\"].append( d[\"Day\"][i-1] + 1 )\n",
    "        d[\"Shared\"].append( d[\"Liked\"][i-1] * 3 ) \n",
    "        d[\"Liked\"].append( d[\"Shared\"][i] // 2 )\n",
    "        d[\"Cumulative\"] += d[\"Liked\"][i]\n",
    "        \n",
    "    return d[\"Cumulative\"]\n",
    "    \n",
    "    \n",
    "days = int(input())\n",
    "print(viralAdvertising(days))"
   ]
  },
  {
   "cell_type": "markdown",
   "metadata": {},
   "source": [
    "## Recursive Digit Sum"
   ]
  },
  {
   "cell_type": "code",
   "execution_count": null,
   "metadata": {},
   "outputs": [],
   "source": [
    "def superDigit(n, k):\n",
    "    \n",
    "    digit = list(map( int, list(str(n)) ))\n",
    "    s = 0\n",
    "    \n",
    "    if len(digit) == 1 : \n",
    "        return digit[0]\n",
    "    \n",
    "    else:\n",
    "        s = sum(digit)*k                 # it is convenient to multiply by k only after the sum calculation,\n",
    "        return superDigit(s, k=1)        # otherwise the string becomes too long \n",
    "    \n",
    "\n",
    "n, k = map(int, input().split())\n",
    "print(superDigit(n, k))"
   ]
  },
  {
   "cell_type": "markdown",
   "metadata": {},
   "source": [
    "## Insertion Sort - Part 1"
   ]
  },
  {
   "cell_type": "code",
   "execution_count": null,
   "metadata": {},
   "outputs": [],
   "source": [
    "def insertionSort1(n, a):\n",
    "    \n",
    "    num = a[n-1]\n",
    "    \n",
    "    for i in range(1, n+1):\n",
    "        \n",
    "        if num > a[n-i-1] or i == n:\n",
    "            a[n-i] = num\n",
    "            print(*a)\n",
    "            return a\n",
    "        \n",
    "        else:\n",
    "            a[n-i] = a[n-i-1]\n",
    "            print(*a)\n",
    "            \n",
    "            \n",
    "length = int( input() )\n",
    "arr = list( map(int, input().split()) )\n",
    "insertionSort1(length, arr)"
   ]
  },
  {
   "cell_type": "markdown",
   "metadata": {},
   "source": [
    "## Insertion Sort - Part 2"
   ]
  },
  {
   "cell_type": "code",
   "execution_count": null,
   "metadata": {},
   "outputs": [],
   "source": [
    "def insertionSort1(n, a):\n",
    "    \n",
    "    num = a[n-1]\n",
    "    \n",
    "    for i in range(1, n+1):\n",
    "        \n",
    "        if num > a[n-i-1] or i == n:\n",
    "            a[n-i] = num\n",
    "            return a\n",
    "        \n",
    "        else:\n",
    "            a[n-i] = a[n-i-1]\n",
    "            \n",
    "\n",
    "def insertionSort2(n, a):           # i use insertionSort1, defined in the previous exercise, on a list \"b\"  \n",
    "                                    # every time it's true that a previous element \"j\" is bigger than the element \"i\":\n",
    "    sort = True                     # when this happens, \"b\" is defined as the array composed by the first i \n",
    "                                    # elements of \"a\" (so i have to take a[0:i+1] because indexes start from 0)\n",
    "    for i in range(1, len(a)):\n",
    "        b = []                      \n",
    "        for j in range(i):\n",
    "            \n",
    "            if a[i] < a[j]: sort = False\n",
    "                \n",
    "        \n",
    "        if sort == True: \n",
    "            print(*a)\n",
    "            continue\n",
    "            \n",
    "        else: \n",
    "            b = a[0:i+1]\n",
    "            c = insertionSort1(i+1, b)    \n",
    "            a[0:i+1] = c\n",
    "            print(*a)\n",
    "            \n",
    "        sort = True\n",
    "        \n",
    "    return a\n",
    "\n",
    "        \n",
    "length = int( input() )\n",
    "arr = list( map(int, input().split()) )\n",
    "insertionSort2(length, arr)"
   ]
  }
 ],
 "metadata": {
  "kernelspec": {
   "display_name": "Python 3",
   "language": "python",
   "name": "python3"
  },
  "language_info": {
   "codemirror_mode": {
    "name": "ipython",
    "version": 3
   },
   "file_extension": ".py",
   "mimetype": "text/x-python",
   "name": "python",
   "nbconvert_exporter": "python",
   "pygments_lexer": "ipython3",
   "version": "3.7.3"
  }
 },
 "nbformat": 4,
 "nbformat_minor": 2
}
